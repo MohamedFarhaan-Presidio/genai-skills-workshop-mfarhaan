{
  "cells": [
    {
      "cell_type": "markdown",
      "source": [
        "# Challenge 3\n",
        "\n",
        "Install necessary packages"
      ],
      "metadata": {
        "id": "-IdiVpZHqN-e"
      },
      "id": "-IdiVpZHqN-e"
    },
    {
      "cell_type": "code",
      "id": "fnrWtksEfZtR7jNHjAwaDwZv",
      "metadata": {
        "tags": [],
        "id": "fnrWtksEfZtR7jNHjAwaDwZv"
      },
      "source": [
        "!pip install google-cloud-aiplatform --quiet"
      ],
      "execution_count": 132,
      "outputs": []
    },
    {
      "cell_type": "markdown",
      "source": [
        "Authenticate Google SDK"
      ],
      "metadata": {
        "id": "ziTkk2AaqR5J"
      },
      "id": "ziTkk2AaqR5J"
    },
    {
      "cell_type": "code",
      "source": [
        "!gcloud auth application-default login"
      ],
      "metadata": {
        "colab": {
          "base_uri": "https://localhost:8080/"
        },
        "id": "ziW6kpdJWiZY",
        "outputId": "d6c22db3-362d-4cf1-f4fe-445722620000"
      },
      "id": "ziW6kpdJWiZY",
      "execution_count": 133,
      "outputs": [
        {
          "output_type": "stream",
          "name": "stdout",
          "text": [
            "\n",
            "You are running on a Google Compute Engine virtual machine.\n",
            "The service credentials associated with this virtual machine\n",
            "will automatically be used by Application Default\n",
            "Credentials, so it is not necessary to use this command.\n",
            "\n",
            "If you decide to proceed anyway, your user credentials may be visible\n",
            "to others with access to this virtual machine. Are you sure you want\n",
            "to authenticate with your personal account?\n",
            "\n",
            "Do you want to continue (Y/n)?  y\n",
            "\n",
            "Go to the following link in your browser, and complete the sign-in prompts:\n",
            "\n",
            "    https://accounts.google.com/o/oauth2/auth?response_type=code&client_id=764086051850-6qr4p6gpi6hn506pt8ejuq83di341hur.apps.googleusercontent.com&redirect_uri=https%3A%2F%2Fsdk.cloud.google.com%2Fapplicationdefaultauthcode.html&scope=openid+https%3A%2F%2Fwww.googleapis.com%2Fauth%2Fuserinfo.email+https%3A%2F%2Fwww.googleapis.com%2Fauth%2Fcloud-platform+https%3A%2F%2Fwww.googleapis.com%2Fauth%2Fsqlservice.login&state=ExxhCyQ2pBr1MiqX8qRYWzJZ5EznoC&prompt=consent&token_usage=remote&access_type=offline&code_challenge=yLHMtVzEL426PN0X6ULaShsFwSa-JY6YVMF_Wjpxsn8&code_challenge_method=S256\n",
            "\n",
            "Once finished, enter the verification code provided in your browser: 4/0AUJR-x6mh-H0movaFTNtyOE4f5qGCfHCY1839mOHQgsoLjZ_wQNGnQlB4IrxFCmpnLQejg\n",
            "\n",
            "Credentials saved to file: [/content/.config/application_default_credentials.json]\n",
            "\n",
            "These credentials will be used by any library that requests Application Default Credentials (ADC).\n",
            "\n",
            "Quota project \"qwiklabs-gcp-03-f951e059a60d\" was added to ADC which can be used by Google client libraries for billing and quota. Note that some services may still bill the project owning the resource.\n"
          ]
        }
      ]
    },
    {
      "cell_type": "markdown",
      "source": [
        "Importing necessary packages"
      ],
      "metadata": {
        "id": "k9LlJWhpqUsR"
      },
      "id": "k9LlJWhpqUsR"
    },
    {
      "cell_type": "code",
      "source": [
        "from google import genai\n",
        "from google.genai import types\n",
        "import unittest\n",
        "import json\n",
        "import vertexai\n",
        "from vertexai.preview.evaluation import notebook_utils\n",
        "from vertexai.evaluation import (\n",
        "    EvalTask,\n",
        "    PointwiseMetric,\n",
        "    PairwiseMetric,\n",
        "    PointwiseMetricPromptTemplate,\n",
        "    PairwiseMetricPromptTemplate,\n",
        "    MetricPromptTemplateExamples,\n",
        ")\n",
        "from vertexai.generative_models import (\n",
        "    GenerativeModel,\n",
        "    HarmCategory,\n",
        "    HarmBlockThreshold,\n",
        ")\n",
        "import pandas as pd\n",
        "import plotly.graph_objects as go\n",
        "from IPython.display import HTML, Markdown, display\n",
        "import uuid"
      ],
      "metadata": {
        "id": "8FEE1cDQWnKc"
      },
      "id": "8FEE1cDQWnKc",
      "execution_count": 134,
      "outputs": []
    },
    {
      "cell_type": "markdown",
      "source": [
        "Initializing Constants"
      ],
      "metadata": {
        "id": "OzMKDvskqWwv"
      },
      "id": "OzMKDvskqWwv"
    },
    {
      "cell_type": "code",
      "source": [
        "project_id=\"qwiklabs-gcp-03-f951e059a60d\"\n",
        "model_name=\"gemini-2.5-pro-preview-06-05\"\n",
        "location=\"global\"\n",
        "vertex_ai_location=\"us-central1\""
      ],
      "metadata": {
        "id": "qqI4xdDsWqOZ"
      },
      "id": "qqI4xdDsWqOZ",
      "execution_count": 135,
      "outputs": []
    },
    {
      "cell_type": "markdown",
      "source": [
        "Initializing Vertex AI"
      ],
      "metadata": {
        "id": "DAf8StraqZCs"
      },
      "id": "DAf8StraqZCs"
    },
    {
      "cell_type": "code",
      "source": [
        "vertexai.init(project=project_id, location=vertex_ai_location)"
      ],
      "metadata": {
        "id": "jCIMp3iwnwGc"
      },
      "id": "jCIMp3iwnwGc",
      "execution_count": 136,
      "outputs": []
    },
    {
      "cell_type": "markdown",
      "source": [
        "Initializing GenAI client for LLM response"
      ],
      "metadata": {
        "id": "bxf4ZwnbqYpz"
      },
      "id": "bxf4ZwnbqYpz"
    },
    {
      "cell_type": "code",
      "source": [
        "client = genai.Client(\n",
        "    vertexai=True,\n",
        "    project=project_id,\n",
        "    location=location,\n",
        ")"
      ],
      "metadata": {
        "id": "7MMW6tK-WwZj"
      },
      "id": "7MMW6tK-WwZj",
      "execution_count": 137,
      "outputs": []
    },
    {
      "cell_type": "markdown",
      "source": [
        "# Classify a text into a category\n",
        "\n",
        "Creating a classify function that intakes user's msg and classfies it amoung 4 category (Employment/ General Information/ Emergency Services/Tax Related). It returns the category label."
      ],
      "metadata": {
        "id": "k2iPOByGqhcY"
      },
      "id": "k2iPOByGqhcY"
    },
    {
      "cell_type": "code",
      "source": [
        "def classify(msg):\n",
        "  # initialize variables\n",
        "  contents=[types.Content(role=\"user\", parts=[types.Part.from_text(text=msg)])]\n",
        "  model=model_name\n",
        "\n",
        "  si_text1 = \"\"\"\n",
        "        You are a classifier that places questions into one of four categories:\n",
        "        1. Employment\n",
        "        2. General Information\n",
        "        3. Emergency Services\n",
        "        4. Tax Related.\n",
        "\n",
        "        Classify the following question into one of the categories above.\n",
        "        Only output the category label.\"\"\"\n",
        "  generate_content_config = types.GenerateContentConfig(\n",
        "    temperature = 1,\n",
        "    top_p = 1,\n",
        "    seed = 0,\n",
        "    max_output_tokens = 65535,\n",
        "    safety_settings = [],\n",
        "    system_instruction=[types.Part.from_text(text=si_text1)],\n",
        "    thinking_config=types.ThinkingConfig(\n",
        "      thinking_budget=-1,\n",
        "    ),\n",
        "  )\n",
        "\n",
        "\n",
        "  #Generated response chunk\n",
        "  response_chunks = client.models.generate_content_stream(\n",
        "      model=model,\n",
        "      contents=contents,\n",
        "      config=generate_content_config\n",
        "  )\n",
        "\n",
        "  #Return Built Full Response from the chunks\n",
        "  full_response = \"\"\n",
        "  for chunk in response_chunks:\n",
        "    full_response += chunk.text\n",
        "\n",
        "  return full_response"
      ],
      "metadata": {
        "id": "zXPPOMifW1LC"
      },
      "id": "zXPPOMifW1LC",
      "execution_count": 138,
      "outputs": []
    },
    {
      "cell_type": "markdown",
      "source": [
        "Test if it returns correctly"
      ],
      "metadata": {
        "id": "stFr-HXrqx5u"
      },
      "id": "stFr-HXrqx5u"
    },
    {
      "cell_type": "code",
      "source": [
        "print(classify(\"Where should I file my income returns?\"))"
      ],
      "metadata": {
        "colab": {
          "base_uri": "https://localhost:8080/"
        },
        "id": "kgdvVslaXMqm",
        "outputId": "5b396162-6c58-459c-ee0b-c8b77c60d7bf"
      },
      "id": "kgdvVslaXMqm",
      "execution_count": 139,
      "outputs": [
        {
          "output_type": "stream",
          "name": "stdout",
          "text": [
            "Tax Related.\n"
          ]
        }
      ]
    },
    {
      "cell_type": "markdown",
      "source": [
        "Test above code with multiple cases foreach category"
      ],
      "metadata": {
        "id": "ioV3qm5pq_1m"
      },
      "id": "ioV3qm5pq_1m"
    },
    {
      "cell_type": "code",
      "source": [
        "\n",
        "class test_classify(unittest.TestCase):\n",
        "\n",
        "    def test_classification_Employment(self):\n",
        "      section = classify(\"What documents do I need to submit with my application for a municipal job opening?\")\n",
        "      self.assertEqual(section, \"Employment\")\n",
        "\n",
        "    def test_classification_General_Information(self):\n",
        "      section = classify(\"What are the operating hours for the local post office?\")\n",
        "      self.assertEqual(section, \"General Information\")\n",
        "\n",
        "    def test_classification_Emergency_Services(self):\n",
        "      section = classify(\"Who should I call if there's a gas leak in my neighborhood?\")\n",
        "      self.assertEqual(section, \"Emergency Services\")\n",
        "\n",
        "    def test_classification_Tax_Related(self):\n",
        "      section = classify(\"Where can I get help preparing my annual income tax return?\")\n",
        "      self.assertEqual(section, \"Tax Related\")\n",
        "\n",
        "unittest.main(argv=[''], verbosity=2, exit=False)"
      ],
      "metadata": {
        "colab": {
          "base_uri": "https://localhost:8080/"
        },
        "id": "cNq7Y6kxcTPD",
        "outputId": "f8fa8379-9a32-4b1f-ac4e-c0f046811687"
      },
      "id": "cNq7Y6kxcTPD",
      "execution_count": 140,
      "outputs": [
        {
          "output_type": "stream",
          "name": "stderr",
          "text": [
            "test_classification_Emergency_Services (__main__.test_classify.test_classification_Emergency_Services) ... ok\n",
            "test_classification_Employment (__main__.test_classify.test_classification_Employment) ... ok\n",
            "test_classification_General_Information (__main__.test_classify.test_classification_General_Information) ... ok\n",
            "test_classification_Tax_Related (__main__.test_classify.test_classification_Tax_Related) ... ok\n",
            "test_govt_aanouncement_1 (__main__.test_govt_announement.test_govt_aanouncement_1) ... ok\n",
            "test_govt_aanouncement_2 (__main__.test_govt_announement.test_govt_aanouncement_2) ... "
          ]
        },
        {
          "output_type": "stream",
          "name": "stdout",
          "text": [
            "{'metric': 'YES', 'reason': ''}\n"
          ]
        },
        {
          "output_type": "stream",
          "name": "stderr",
          "text": [
            "ok\n",
            "\n",
            "----------------------------------------------------------------------\n",
            "Ran 6 tests in 62.913s\n",
            "\n",
            "OK\n"
          ]
        },
        {
          "output_type": "stream",
          "name": "stdout",
          "text": [
            "{'metric': 'NO', 'reason': \"The post fails the Veracity and Actionability criteria. It uses placeholders like '[Insert Date]' and '[Insert Tomorrow's Date]' instead of providing specific, concrete information. A public announcement must be complete and verifiable to be of any use to the public; as presented, this is an unusable template, not a valid communication.\"}\n"
          ]
        },
        {
          "output_type": "execute_result",
          "data": {
            "text/plain": [
              "<unittest.main.TestProgram at 0x7d5285212490>"
            ]
          },
          "metadata": {},
          "execution_count": 140
        }
      ]
    },
    {
      "cell_type": "markdown",
      "source": [
        "# Create a Governemnt announcement content generation function.\n",
        "\n",
        "It accepts a gist of the announement and frames the announcement which can be posted on social media. It returns the post content as string"
      ],
      "metadata": {
        "id": "MrWIr6GOrFDD"
      },
      "id": "MrWIr6GOrFDD"
    },
    {
      "cell_type": "code",
      "source": [
        "# Creating a system instruction for generating the content\n",
        "post_generation_system_instruction = \"\"\"\n",
        "          You are a social media content creator for a government agency. Your goal is to craft engaging, impactful, and clear social media posts for official announcements.\n",
        "\n",
        "        Your task is to generate a social media post.\n",
        "\n",
        "        The post must include:\n",
        "\n",
        "        1. A strong, attention-grabbing opening statement.\n",
        "        2. Clear and concise information about the announcement.\n",
        "        3. A call to action or important instruction.\n",
        "        4. Relevant and impactful emojis to enhance the message and engagement.\n",
        "        5. At least two relevant hashtags.\n",
        "        6. tone that is authoritative yet approachable, prioritizing public safety or well-being where applicable.\n",
        "        7. Add Emojis whereever necessary\n",
        "\n",
        "        Make sure below evaluation criteria are met:\n",
        "\n",
        "        1. Accessibility: Is the message effortlessly grasped by all members of the public, including those with limited literacy or who speak English as a second language?\n",
        "        2. Tone & Register: Does the emotional quality and formality of the post align perfectly with its subject matter (e.g., solemn for crises, respectful for service disruptions, neutral for general advisories)?\n",
        "        3. Veracity: Is the information presented accurate, verifiable, and devoid of any speculative or potentially misleading statements?\n",
        "        4. Actionability (if relevant): For time-sensitive or critical situations, does the post effectively guide the audience on what immediate action to take?\n",
        "        5. Brevity: Is the post optimally concise, ideally fitting within short-form platform constraints (e.g., under 280 characters for X/Twitter)?\n",
        "        6. Engagement Elements: Are hashtags purposeful and sparse? Are any mentioned entities or accounts tagged appropriately?\n",
        "        7. Formal Language: Does the content steer clear of specialized jargon, political opinions, informal slang, or promotional language?\n",
        "        8. Presentation: Is capitalization and punctuation handled correctly, and are emojis used sparingly and effectively to enhance, not distract from, the message?\n",
        "\n",
        "        Give only the best options if there are multiple options.\n",
        "\n",
        "        Only output the post.\n",
        "        \"\"\"\n",
        "\n",
        "def generate_govt_content(msg):\n",
        "  global post_generation_system_instruction\n",
        "\n",
        "  # initialize variables\n",
        "  contents=[types.Content(role=\"user\", parts=[types.Part.from_text(text=msg)])]\n",
        "  model=model_name\n",
        "\n",
        "\n",
        "  generate_content_config = types.GenerateContentConfig(\n",
        "    temperature = 1,\n",
        "    top_p = 1,\n",
        "    seed = 0,\n",
        "    max_output_tokens = 65535,\n",
        "    safety_settings = [],\n",
        "    system_instruction=[types.Part.from_text(text=post_generation_system_instruction)],\n",
        "    thinking_config=types.ThinkingConfig(\n",
        "      thinking_budget=-1,\n",
        "    ),\n",
        "  )\n",
        "\n",
        "\n",
        "  #Generated response chunk\n",
        "  response_chunks = client.models.generate_content_stream(\n",
        "      model=model,\n",
        "      contents=contents,\n",
        "      config=generate_content_config\n",
        "  )\n",
        "\n",
        "  #Return Built Full Response from the chunks\n",
        "  full_response = \"\"\n",
        "  for chunk in response_chunks:\n",
        "    full_response += chunk.text\n",
        "\n",
        "  return full_response"
      ],
      "metadata": {
        "id": "HJUYUokwdlxR"
      },
      "id": "HJUYUokwdlxR",
      "execution_count": 141,
      "outputs": []
    },
    {
      "cell_type": "markdown",
      "source": [
        "Test the generated content"
      ],
      "metadata": {
        "id": "zGGj3HX6rcTX"
      },
      "id": "zGGj3HX6rcTX"
    },
    {
      "cell_type": "code",
      "source": [
        "print(generate_govt_content(\"tomorrow heavy rainfall, leave for all school, college and private organisations, people dont come out\"))"
      ],
      "metadata": {
        "colab": {
          "base_uri": "https://localhost:8080/"
        },
        "id": "x41euKAmeFG9",
        "outputId": "b955acdf-033a-4abc-c177-54a87650ee93"
      },
      "id": "x41euKAmeFG9",
      "execution_count": 142,
      "outputs": [
        {
          "output_type": "stream",
          "name": "stdout",
          "text": [
            "⚠️ PUBLIC SAFETY ALERT ⚠️\n",
            "\n",
            "Due to forecasts of heavy rainfall ⛈️, all schools, colleges, and organizations will be closed tomorrow.\n",
            "\n",
            "For your safety, please stay home and avoid all non-essential travel. 🏡\n",
            "\n",
            "#WeatherAlert #PublicSafety\n"
          ]
        }
      ]
    },
    {
      "cell_type": "markdown",
      "source": [
        "# Evaluation of the generated content by another LLM call\n",
        "\n",
        "Since the response of the content is not deterministic, it cannot be directly asserted with a value, so I am making another LLM call to determine if the content genreated matches few metrics.\n",
        "\n",
        "The key metrics are stored in form on system instrcutions.\n",
        "\n",
        "The response of the function is in JSON\n",
        "```json\n",
        "{\n",
        "  \"metric\": \"YES/NO\", //based on content if it matches the expectation it returns \"YES\" or else returns \"NO\"\n",
        "  \"reason\": \"If no, reason is given\" // The reason for NO is provided\n",
        "}\n",
        "```"
      ],
      "metadata": {
        "id": "qckI1X9yrfGL"
      },
      "id": "qckI1X9yrfGL"
    },
    {
      "cell_type": "code",
      "source": [
        "evaluation_post_system_instruction = \"\"\"\n",
        "      Role: You are an expert public relations officer tasked with validating social media communications from a government entity.\n",
        "\n",
        "      Objective: Critically assess the provided social media post, which serves as a public announcement (e.g., for weather alerts, facility closures, public holidays, or community updates).\n",
        "\n",
        "      Evaluation Criteria:\n",
        "\n",
        "        1. Accessibility: Is the message effortlessly grasped by all members of the public, including those with limited literacy or who speak English as a second language?\n",
        "        2. Tone & Register: Does the emotional quality and formality of the post align perfectly with its subject matter (e.g., solemn for crises, respectful for service disruptions, neutral for general advisories)?\n",
        "        3. Veracity: Is the information presented accurate, verifiable, and devoid of any speculative or potentially misleading statements?\n",
        "        4. Actionability (if relevant): For time-sensitive or critical situations, does the post effectively guide the audience on what immediate action to take?\n",
        "        5. Engagement Elements: Are hashtags purposeful and sparse? Are any mentioned entities or accounts tagged appropriately?\n",
        "        6. Formal Language: Does the content steer clear of specialized jargon, political opinions, informal slang, or promotional language?\n",
        "        7. Presentation: Is capitalization and punctuation handled correctly, and are emojis used sparingly and effectively to enhance, not distract from, the message?\n",
        "      Output \"YES\" if the post satisfies all criteria; otherwise, output \"NO\" as metric.\n",
        "\n",
        "      Always output as JSON {\"metric\": \"YES/NO\", \"reason\":\"If NO, provide the reason here, or else leave empty\"}\n",
        "  \"\"\"\n",
        "\n",
        "def evaulaute_post(announcement):\n",
        "  global evaluation_post_system_instruction\n",
        "  # initialize variables\n",
        "  contents=[types.Content(role=\"user\", parts=[types.Part.from_text(text=announcement)])]\n",
        "  model=model_name\n",
        "\n",
        "  generate_content_config = types.GenerateContentConfig(\n",
        "    temperature = 1,\n",
        "    top_p = 1,\n",
        "    seed = 0,\n",
        "    max_output_tokens = 65535,\n",
        "    safety_settings = [],\n",
        "    system_instruction=[types.Part.from_text(text=evaluation_post_system_instruction)],\n",
        "    thinking_config=types.ThinkingConfig(\n",
        "      thinking_budget=-1,\n",
        "    ),\n",
        "  )\n",
        "\n",
        "\n",
        "  #Generated response chunk\n",
        "  response_chunks = client.models.generate_content_stream(\n",
        "      model=model,\n",
        "      contents=contents,\n",
        "      config=generate_content_config\n",
        "  )\n",
        "\n",
        "  #Return Built Full Response from the chunks\n",
        "  full_response = \"\"\n",
        "  for chunk in response_chunks:\n",
        "    full_response += chunk.text\n",
        "\n",
        "  cleaned_json_string = full_response.replace(\"```json\", \"\").replace(\"```\", \"\").strip()\n",
        "\n",
        "  try:\n",
        "    # Attempt to parse the full string as JSON\n",
        "    parsed_json = json.loads(cleaned_json_string)\n",
        "    return parsed_json\n",
        "  except json.JSONDecodeError as e:\n",
        "    print(f\"Error decoding JSON: {e}\")\n",
        "    print(f\"Received string: {full_response}\")\n",
        "    raise ValueError(\"LLM response was not a valid JSON string.\")\n"
      ],
      "metadata": {
        "id": "65UHI49Zg_oG"
      },
      "id": "65UHI49Zg_oG",
      "execution_count": 143,
      "outputs": []
    },
    {
      "cell_type": "markdown",
      "source": [
        "# Evaluating the new function\n",
        "\n",
        "Based on an announcement generation prompt, the announcement content is validated and respective response is printed for evaluation"
      ],
      "metadata": {
        "id": "TnG0s0ZCsFuV"
      },
      "id": "TnG0s0ZCsFuV"
    },
    {
      "cell_type": "code",
      "source": [
        "resp = generate_govt_content(\"on '19/06/2025' heavy rainfall, floods expected, leave for all school, college and govt organisations, people dont come out, emergency food will be made available\")\n",
        "print(f\"[DEBUG] Post: {resp}\")\n",
        "\n",
        "print(f\"\\nEvaluation: {evaulaute_post(resp)}\")\n"
      ],
      "metadata": {
        "colab": {
          "base_uri": "https://localhost:8080/"
        },
        "id": "oGTXLyxKhilP",
        "outputId": "bb44a8a8-42e1-405e-bf50-337abb36c47d"
      },
      "id": "oGTXLyxKhilP",
      "execution_count": 151,
      "outputs": [
        {
          "output_type": "stream",
          "name": "stdout",
          "text": [
            "[DEBUG] Post: ⚠️ PUBLIC SAFETY ALERT: 19/06/2025 ⚠️\n",
            "\n",
            "Due to predictions of heavy rainfall and potential flooding, all schools, colleges, and government offices will be CLOSED on Thursday, 19th June 2025.\n",
            "\n",
            "Residents are strongly advised to stay home and avoid travel. 🏠 Your safety is the top priority.\n",
            "\n",
            "Emergency food and support will be available for affected areas. Stay tuned for updates.\n",
            "\n",
            "#WeatherAdvisory #StaySafe\n",
            "\n",
            "Evaluation: {'metric': 'YES', 'reason': ''}\n"
          ]
        }
      ]
    },
    {
      "cell_type": "markdown",
      "source": [
        "Creating unit test case for both positive and negative scenarios"
      ],
      "metadata": {
        "id": "04wJ0itdsRLp"
      },
      "id": "04wJ0itdsRLp"
    },
    {
      "cell_type": "code",
      "source": [
        "class test_govt_announement(unittest.TestCase):\n",
        "\n",
        "    def test_govt_aanouncement_1(self):\n",
        "      resp = generate_govt_content(\"From '19/06/2025', new railway station is open for operation at Madurai TN India near Periyar bus stand\")\n",
        "      eval = evaulaute_post(resp)\n",
        "      self.assertEqual(eval[\"metric\"], \"YES\")\n",
        "\n",
        "    def test_govt_aanouncement_2(self):\n",
        "      resp = generate_govt_content(\"Declare holiday today\")\n",
        "      eval = evaulaute_post(resp)\n",
        "      self.assertEqual(eval[\"metric\"], \"NO\")\n",
        "\n",
        "unittest.main(argv=[''], verbosity=2, exit=False)"
      ],
      "metadata": {
        "colab": {
          "base_uri": "https://localhost:8080/"
        },
        "id": "BHB56yihlmJw",
        "outputId": "2b963db4-3326-4483-dbfe-011549eaf3db"
      },
      "id": "BHB56yihlmJw",
      "execution_count": 152,
      "outputs": [
        {
          "output_type": "stream",
          "name": "stderr",
          "text": [
            "test_classification_Emergency_Services (__main__.test_classify.test_classification_Emergency_Services) ... ok\n",
            "test_classification_Employment (__main__.test_classify.test_classification_Employment) ... ok\n",
            "test_classification_General_Information (__main__.test_classify.test_classification_General_Information) ... ok\n",
            "test_classification_Tax_Related (__main__.test_classify.test_classification_Tax_Related) ... ok\n",
            "test_govt_aanouncement_1 (__main__.test_govt_announement.test_govt_aanouncement_1) ... ok\n",
            "test_govt_aanouncement_2 (__main__.test_govt_announement.test_govt_aanouncement_2) ... ok\n",
            "\n",
            "----------------------------------------------------------------------\n",
            "Ran 6 tests in 57.726s\n",
            "\n",
            "OK\n"
          ]
        },
        {
          "output_type": "execute_result",
          "data": {
            "text/plain": [
              "<unittest.main.TestProgram at 0x7d52537ad190>"
            ]
          },
          "metadata": {},
          "execution_count": 152
        }
      ]
    },
    {
      "cell_type": "markdown",
      "source": [
        "## 3. Priting Evaluation metrics based on Vertex AI\n",
        "\n",
        "Designing few posts and its prompts which is assumed to be generated and its evaluation metrics are determined"
      ],
      "metadata": {
        "id": "Di8zF2NwsYJM"
      },
      "id": "Di8zF2NwsYJM"
    },
    {
      "cell_type": "code",
      "source": [
        "# Define a test dataset with vague, generic posts for false positive testing\n",
        "new_posts = [\n",
        "    {\n",
        "        \"prompt\": \"A moderate earthquake of magnitude 4.6 was felt in parts of Himachal Pradesh around 3:45 AM today. No immediate damage has been reported.\",\n",
        "        \"post\": \"Mild earthquake (M4.6) shook parts of Himachal Pradesh early this morning at 3:45 AM. No damage reported so far. Stay alert and follow safety protocols. #Earthquake #HimachalPradesh #StaySafe\"\n",
        "    },\n",
        "    {\n",
        "        \"prompt\": \"Delhi Metro services on the Blue Line will be affected on June 25 due to scheduled maintenance work between Dwarka and Rajiv Chowk.\",\n",
        "        \"post\": \"Heads up! Delhi Metro Blue Line services will face disruptions on June 25 between Dwarka and Rajiv Chowk due to maintenance. Plan your commute accordingly. #DelhiMetro #ServiceAlert\"\n",
        "    },\n",
        "    {\n",
        "        \"prompt\": \"The civic body has announced a power shutdown in parts of Hyderabad’s Madhapur area on June 18 from 9 AM to 2 PM for line upgrades.\",\n",
        "        \"post\": \"⚡ Power cut alert for Madhapur, Hyderabad on June 18 from 9 AM to 2 PM due to upgrade work. Plan ahead! #Hyderabad #PowerShutdown\"\n",
        "    },\n",
        "    {\n",
        "        \"prompt\": \"Something unusual might happen tomorrow, but we’re not sure what exactly. Stay aware.\",\n",
        "        \"post\": \"Tomorrow could be different. Or not. Just keep an eye out. 👀 #StayTuned\"\n",
        "    },\n",
        "    {\n",
        "        \"prompt\": \"People are saying things. Some are worried, some are not. It’s unclear what’s really going on.\",\n",
        "        \"post\": \"A lot of chatter lately… unclear what it means. But hey, that’s life. 🤷‍♂️ #WhateverHappens\"\n",
        "    }\n",
        "]"
      ],
      "metadata": {
        "id": "nlmljXbrnp0_"
      },
      "id": "nlmljXbrnp0_",
      "execution_count": 146,
      "outputs": []
    },
    {
      "cell_type": "code",
      "source": [
        "# Convert the list of posts into a DataFrame for evaluation\n",
        "# Each row includes the system instruction, the prompt as context, and the generated post as response\n",
        "evaluation_ds = pd.DataFrame([\n",
        "    {\n",
        "        \"instruction\": post_generation_system_instruction,\n",
        "        \"context\": f\"announcement: {item['prompt']}\",\n",
        "        \"response\": item[\"post\"],\n",
        "    } for item in new_posts\n",
        "])\n",
        "\n",
        "# Generate a unique ID for this evaluation experiment run\n",
        "unique_id = uuid.uuid4()\n",
        "\n",
        "# Create an evaluation task object with the dataset and a set of evaluation metrics\n",
        "eval_task = EvalTask(\n",
        "    dataset=evaluation_ds,\n",
        "    metrics=[\n",
        "        MetricPromptTemplateExamples.Pointwise.GROUNDEDNESS,\n",
        "        MetricPromptTemplateExamples.Pointwise.VERBOSITY,\n",
        "        MetricPromptTemplateExamples.Pointwise.INSTRUCTION_FOLLOWING,\n",
        "        MetricPromptTemplateExamples.Pointwise.SAFETY\n",
        "    ],\n",
        "    experiment=f\"annoumnment{unique_id}\"\n",
        ")\n",
        "\n",
        "# Define the format of the prompt for the evaluation model\n",
        "prompt_template = (\n",
        "    \"Instruction: {instruction}. Prompt: {context}. Post: {response}\"\n",
        ")\n",
        "\n",
        "\n",
        "# Run the evaluation on the dataset using the prompt template and experiment name\n",
        "result = eval_task.evaluate(\n",
        "      prompt_template=prompt_template,\n",
        "      experiment_run_name=f\"annoumnment{unique_id}\"\n",
        ")\n",
        "# Store the evaluation result in a list for later use or output\n",
        "output = []\n",
        "output.append(result)\n",
        "\n",
        "# Print the evaluation result(s)\n",
        "print(output)"
      ],
      "metadata": {
        "colab": {
          "base_uri": "https://localhost:8080/",
          "height": 1000
        },
        "id": "3EfFmxman2aK",
        "outputId": "e80951c0-7a7f-459b-9c4b-4ea3f7e2ad16"
      },
      "id": "3EfFmxman2aK",
      "execution_count": 147,
      "outputs": [
        {
          "output_type": "display_data",
          "data": {
            "text/plain": [
              "<IPython.core.display.HTML object>"
            ],
            "text/html": [
              "\n",
              "        \n",
              "    <link rel=\"stylesheet\" href=\"https://fonts.googleapis.com/icon?family=Material+Icons\">\n",
              "    <style>\n",
              "      .view-vertex-resource,\n",
              "      .view-vertex-resource:hover,\n",
              "      .view-vertex-resource:visited {\n",
              "        position: relative;\n",
              "        display: inline-flex;\n",
              "        flex-direction: row;\n",
              "        height: 32px;\n",
              "        padding: 0 12px;\n",
              "          margin: 4px 18px;\n",
              "        gap: 4px;\n",
              "        border-radius: 4px;\n",
              "\n",
              "        align-items: center;\n",
              "        justify-content: center;\n",
              "        background-color: rgb(255, 255, 255);\n",
              "        color: rgb(51, 103, 214);\n",
              "\n",
              "        font-family: Roboto,\"Helvetica Neue\",sans-serif;\n",
              "        font-size: 13px;\n",
              "        font-weight: 500;\n",
              "        text-transform: uppercase;\n",
              "        text-decoration: none !important;\n",
              "\n",
              "        transition: box-shadow 280ms cubic-bezier(0.4, 0, 0.2, 1) 0s;\n",
              "        box-shadow: 0px 3px 1px -2px rgba(0,0,0,0.2), 0px 2px 2px 0px rgba(0,0,0,0.14), 0px 1px 5px 0px rgba(0,0,0,0.12);\n",
              "      }\n",
              "      .view-vertex-resource:active {\n",
              "        box-shadow: 0px 5px 5px -3px rgba(0,0,0,0.2),0px 8px 10px 1px rgba(0,0,0,0.14),0px 3px 14px 2px rgba(0,0,0,0.12);\n",
              "      }\n",
              "      .view-vertex-resource:active .view-vertex-ripple::before {\n",
              "        position: absolute;\n",
              "        top: 0;\n",
              "        bottom: 0;\n",
              "        left: 0;\n",
              "        right: 0;\n",
              "        border-radius: 4px;\n",
              "        pointer-events: none;\n",
              "\n",
              "        content: '';\n",
              "        background-color: rgb(51, 103, 214);\n",
              "        opacity: 0.12;\n",
              "      }\n",
              "      .view-vertex-icon {\n",
              "        font-size: 18px;\n",
              "      }\n",
              "    </style>\n",
              "  \n",
              "        <a class=\"view-vertex-resource\" id=\"view-vertex-resource-a5140455-6385-4f13-9eb7-9610018e9166\" href=\"#view-view-vertex-resource-a5140455-6385-4f13-9eb7-9610018e9166\">\n",
              "          <span class=\"material-icons view-vertex-icon\">science</span>\n",
              "          <span>View Experiment</span>\n",
              "        </a>\n",
              "        \n",
              "        <script>\n",
              "          (function () {\n",
              "            const link = document.getElementById('view-vertex-resource-a5140455-6385-4f13-9eb7-9610018e9166');\n",
              "            link.addEventListener('click', (e) => {\n",
              "              if (window.google?.colab?.openUrl) {\n",
              "                window.google.colab.openUrl('https://console.cloud.google.com/vertex-ai/experiments/locations/us-central1/experiments/annoumnmentf22f8d66-2bdb-44e3-95f7-64f9758982d7/runs?project=qwiklabs-gcp-03-f951e059a60d');\n",
              "              } else {\n",
              "                window.open('https://console.cloud.google.com/vertex-ai/experiments/locations/us-central1/experiments/annoumnmentf22f8d66-2bdb-44e3-95f7-64f9758982d7/runs?project=qwiklabs-gcp-03-f951e059a60d', '_blank');\n",
              "              }\n",
              "              e.stopPropagation();\n",
              "              e.preventDefault();\n",
              "            });\n",
              "          })();\n",
              "        </script>\n",
              "    "
            ]
          },
          "metadata": {}
        },
        {
          "output_type": "display_data",
          "data": {
            "text/plain": [
              "<IPython.core.display.HTML object>"
            ],
            "text/html": [
              "\n",
              "        \n",
              "    <link rel=\"stylesheet\" href=\"https://fonts.googleapis.com/icon?family=Material+Icons\">\n",
              "    <style>\n",
              "      .view-vertex-resource,\n",
              "      .view-vertex-resource:hover,\n",
              "      .view-vertex-resource:visited {\n",
              "        position: relative;\n",
              "        display: inline-flex;\n",
              "        flex-direction: row;\n",
              "        height: 32px;\n",
              "        padding: 0 12px;\n",
              "          margin: 4px 18px;\n",
              "        gap: 4px;\n",
              "        border-radius: 4px;\n",
              "\n",
              "        align-items: center;\n",
              "        justify-content: center;\n",
              "        background-color: rgb(255, 255, 255);\n",
              "        color: rgb(51, 103, 214);\n",
              "\n",
              "        font-family: Roboto,\"Helvetica Neue\",sans-serif;\n",
              "        font-size: 13px;\n",
              "        font-weight: 500;\n",
              "        text-transform: uppercase;\n",
              "        text-decoration: none !important;\n",
              "\n",
              "        transition: box-shadow 280ms cubic-bezier(0.4, 0, 0.2, 1) 0s;\n",
              "        box-shadow: 0px 3px 1px -2px rgba(0,0,0,0.2), 0px 2px 2px 0px rgba(0,0,0,0.14), 0px 1px 5px 0px rgba(0,0,0,0.12);\n",
              "      }\n",
              "      .view-vertex-resource:active {\n",
              "        box-shadow: 0px 5px 5px -3px rgba(0,0,0,0.2),0px 8px 10px 1px rgba(0,0,0,0.14),0px 3px 14px 2px rgba(0,0,0,0.12);\n",
              "      }\n",
              "      .view-vertex-resource:active .view-vertex-ripple::before {\n",
              "        position: absolute;\n",
              "        top: 0;\n",
              "        bottom: 0;\n",
              "        left: 0;\n",
              "        right: 0;\n",
              "        border-radius: 4px;\n",
              "        pointer-events: none;\n",
              "\n",
              "        content: '';\n",
              "        background-color: rgb(51, 103, 214);\n",
              "        opacity: 0.12;\n",
              "      }\n",
              "      .view-vertex-icon {\n",
              "        font-size: 18px;\n",
              "      }\n",
              "    </style>\n",
              "  \n",
              "        <a class=\"view-vertex-resource\" id=\"view-vertex-resource-17cca630-6c41-479a-9f42-5c31b98d1c6b\" href=\"#view-view-vertex-resource-17cca630-6c41-479a-9f42-5c31b98d1c6b\">\n",
              "          <span class=\"material-icons view-vertex-icon\">science</span>\n",
              "          <span>View Experiment Run</span>\n",
              "        </a>\n",
              "        \n",
              "        <script>\n",
              "          (function () {\n",
              "            const link = document.getElementById('view-vertex-resource-17cca630-6c41-479a-9f42-5c31b98d1c6b');\n",
              "            link.addEventListener('click', (e) => {\n",
              "              if (window.google?.colab?.openUrl) {\n",
              "                window.google.colab.openUrl('https://console.cloud.google.com/vertex-ai/experiments/locations/us-central1/experiments/annoumnmentf22f8d66-2bdb-44e3-95f7-64f9758982d7/runs/annoumnmentf22f8d66-2bdb-44e3-95f7-64f9758982d7-annoumnmentf22f8d66-2bdb-44e3-95f7-64f9758982d7?project=qwiklabs-gcp-03-f951e059a60d');\n",
              "              } else {\n",
              "                window.open('https://console.cloud.google.com/vertex-ai/experiments/locations/us-central1/experiments/annoumnmentf22f8d66-2bdb-44e3-95f7-64f9758982d7/runs/annoumnmentf22f8d66-2bdb-44e3-95f7-64f9758982d7-annoumnmentf22f8d66-2bdb-44e3-95f7-64f9758982d7?project=qwiklabs-gcp-03-f951e059a60d', '_blank');\n",
              "              }\n",
              "              e.stopPropagation();\n",
              "              e.preventDefault();\n",
              "            });\n",
              "          })();\n",
              "        </script>\n",
              "    "
            ]
          },
          "metadata": {}
        },
        {
          "output_type": "stream",
          "name": "stderr",
          "text": [
            "INFO:vertexai.evaluation.eval_task:Logging Eval Experiment metadata: {'prompt_template': 'Instruction: {instruction}. Prompt: {context}. Post: {response}'}\n",
            "INFO:vertexai.evaluation._evaluation:Assembling prompts from the `prompt_template`. The `prompt` column in the `EvalResult.metrics_table` has the assembled prompts used for model response generation.\n",
            "INFO:vertexai.evaluation._evaluation:Computing metrics with a total of 20 Vertex Gen AI Evaluation Service API requests.\n",
            "100%|██████████| 20/20 [00:02<00:00,  7.03it/s]\n",
            "INFO:vertexai.evaluation._evaluation:All 20 metric requests are successfully computed.\n",
            "INFO:vertexai.evaluation._evaluation:Evaluation Took:2.855648786000529 seconds\n"
          ]
        },
        {
          "output_type": "display_data",
          "data": {
            "text/plain": [
              "<IPython.core.display.HTML object>"
            ],
            "text/html": [
              "\n",
              "        \n",
              "    <link rel=\"stylesheet\" href=\"https://fonts.googleapis.com/icon?family=Material+Icons\">\n",
              "    <style>\n",
              "      .view-vertex-resource,\n",
              "      .view-vertex-resource:hover,\n",
              "      .view-vertex-resource:visited {\n",
              "        position: relative;\n",
              "        display: inline-flex;\n",
              "        flex-direction: row;\n",
              "        height: 32px;\n",
              "        padding: 0 12px;\n",
              "          margin: 4px 18px;\n",
              "        gap: 4px;\n",
              "        border-radius: 4px;\n",
              "\n",
              "        align-items: center;\n",
              "        justify-content: center;\n",
              "        background-color: rgb(255, 255, 255);\n",
              "        color: rgb(51, 103, 214);\n",
              "\n",
              "        font-family: Roboto,\"Helvetica Neue\",sans-serif;\n",
              "        font-size: 13px;\n",
              "        font-weight: 500;\n",
              "        text-transform: uppercase;\n",
              "        text-decoration: none !important;\n",
              "\n",
              "        transition: box-shadow 280ms cubic-bezier(0.4, 0, 0.2, 1) 0s;\n",
              "        box-shadow: 0px 3px 1px -2px rgba(0,0,0,0.2), 0px 2px 2px 0px rgba(0,0,0,0.14), 0px 1px 5px 0px rgba(0,0,0,0.12);\n",
              "      }\n",
              "      .view-vertex-resource:active {\n",
              "        box-shadow: 0px 5px 5px -3px rgba(0,0,0,0.2),0px 8px 10px 1px rgba(0,0,0,0.14),0px 3px 14px 2px rgba(0,0,0,0.12);\n",
              "      }\n",
              "      .view-vertex-resource:active .view-vertex-ripple::before {\n",
              "        position: absolute;\n",
              "        top: 0;\n",
              "        bottom: 0;\n",
              "        left: 0;\n",
              "        right: 0;\n",
              "        border-radius: 4px;\n",
              "        pointer-events: none;\n",
              "\n",
              "        content: '';\n",
              "        background-color: rgb(51, 103, 214);\n",
              "        opacity: 0.12;\n",
              "      }\n",
              "      .view-vertex-icon {\n",
              "        font-size: 18px;\n",
              "      }\n",
              "    </style>\n",
              "  \n",
              "        <a class=\"view-vertex-resource\" id=\"view-vertex-resource-ba59da23-8b65-42cb-9dfe-2d612eaec80b\" href=\"#view-view-vertex-resource-ba59da23-8b65-42cb-9dfe-2d612eaec80b\">\n",
              "          <span class=\"material-icons view-vertex-icon\">bar_chart</span>\n",
              "          <span>View evaluation results</span>\n",
              "        </a>\n",
              "        \n",
              "        <script>\n",
              "          (function () {\n",
              "            const link = document.getElementById('view-vertex-resource-ba59da23-8b65-42cb-9dfe-2d612eaec80b');\n",
              "            link.addEventListener('click', (e) => {\n",
              "              if (window.google?.colab?.openUrl) {\n",
              "                window.google.colab.openUrl('https://cloud.google.com/vertex-ai/generative-ai/docs/models/view-evaluation');\n",
              "              } else {\n",
              "                window.open('https://cloud.google.com/vertex-ai/generative-ai/docs/models/view-evaluation', '_blank');\n",
              "              }\n",
              "              e.stopPropagation();\n",
              "              e.preventDefault();\n",
              "            });\n",
              "          })();\n",
              "        </script>\n",
              "    "
            ]
          },
          "metadata": {}
        },
        {
          "output_type": "stream",
          "name": "stdout",
          "text": [
            "[EvalResult(summary_metrics={'row_count': 5, 'groundedness/mean': np.float64(1.0), 'groundedness/std': 0.0, 'verbosity/mean': np.float64(-0.4), 'verbosity/std': 0.894427190999916, 'instruction_following/mean': np.float64(3.0), 'instruction_following/std': 1.5811388300841898, 'safety/mean': np.float64(1.0), 'safety/std': 0.0}, metrics_table=                                         instruction  \\\n",
            "0  \\n          You are a social media content cre...   \n",
            "1  \\n          You are a social media content cre...   \n",
            "2  \\n          You are a social media content cre...   \n",
            "3  \\n          You are a social media content cre...   \n",
            "4  \\n          You are a social media content cre...   \n",
            "\n",
            "                                             context  \\\n",
            "0  announcement: A moderate earthquake of magnitu...   \n",
            "1  announcement: Delhi Metro services on the Blue...   \n",
            "2  announcement: The civic body has announced a p...   \n",
            "3  announcement: Something unusual might happen t...   \n",
            "4  announcement: People are saying things. Some a...   \n",
            "\n",
            "                                            response  \\\n",
            "0  Mild earthquake (M4.6) shook parts of Himachal...   \n",
            "1  Heads up! Delhi Metro Blue Line services will ...   \n",
            "2  ⚡ Power cut alert for Madhapur, Hyderabad on J...   \n",
            "3  Tomorrow could be different. Or not. Just keep...   \n",
            "4  A lot of chatter lately… unclear what it means...   \n",
            "\n",
            "                                              prompt  \\\n",
            "0  Instruction: \\n          You are a social medi...   \n",
            "1  Instruction: \\n          You are a social medi...   \n",
            "2  Instruction: \\n          You are a social medi...   \n",
            "3  Instruction: \\n          You are a social medi...   \n",
            "4  Instruction: \\n          You are a social medi...   \n",
            "\n",
            "                            groundedness/explanation  groundedness/score  \\\n",
            "0  The response is fully grounded, as it only use...                 1.0   \n",
            "1  The response is fully grounded as it is entire...                 1.0   \n",
            "2  The response is fully grounded as it only cont...                 1.0   \n",
            "3  The response is fully grounded as it only cont...                 1.0   \n",
            "4  The response is fully grounded as it is entire...                 1.0   \n",
            "\n",
            "                               verbosity/explanation  verbosity/score  \\\n",
            "0  The response is perfectly concise, providing a...              0.0   \n",
            "1  The response is appropriately concise, providi...              0.0   \n",
            "2  The response is just right because it is perfe...              0.0   \n",
            "3  The response is appropriately concise and prov...              0.0   \n",
            "4  The response is too short and fails to meet th...             -2.0   \n",
            "\n",
            "                   instruction_following/explanation  \\\n",
            "0  The response follows the instructions by provi...   \n",
            "1  The response includes some of the requested el...   \n",
            "2  The response adheres to all instructions, prov...   \n",
            "3  The response is very short and vague, lacking ...   \n",
            "4  The response is extremely poor, it uses the sa...   \n",
            "\n",
            "   instruction_following/score  \\\n",
            "0                          4.0   \n",
            "1                          3.0   \n",
            "2                          5.0   \n",
            "3                          2.0   \n",
            "4                          1.0   \n",
            "\n",
            "                                  safety/explanation  safety/score  \n",
            "0  The response is safe as it does not contain an...           1.0  \n",
            "1  The response is safe as it does not contain an...           1.0  \n",
            "2  The response is safe as it does not contain an...           1.0  \n",
            "3  The response is safe because it does not conta...           1.0  \n",
            "4  The response does not contain any hate speech,...           1.0  , metadata={'experiment': 'annoumnmentf22f8d66-2bdb-44e3-95f7-64f9758982d7', 'experiment_run': 'annoumnmentf22f8d66-2bdb-44e3-95f7-64f9758982d7'})]\n"
          ]
        }
      ]
    },
    {
      "cell_type": "markdown",
      "source": [
        "## Display the evaluated results"
      ],
      "metadata": {
        "id": "kJl3OkBntF6p"
      },
      "id": "kJl3OkBntF6p"
    },
    {
      "cell_type": "code",
      "source": [
        "# Display the evaluation results in a readable tabular format using a utility function\n",
        "notebook_utils.display_eval_result(result)"
      ],
      "metadata": {
        "colab": {
          "base_uri": "https://localhost:8080/",
          "height": 788
        },
        "id": "dHYdo3ImpFsG",
        "outputId": "182966d0-1885-43d9-c70f-2d0ff25886d9"
      },
      "id": "dHYdo3ImpFsG",
      "execution_count": 148,
      "outputs": [
        {
          "output_type": "display_data",
          "data": {
            "text/plain": [
              "<IPython.core.display.Markdown object>"
            ],
            "text/markdown": "### Summary Metrics"
          },
          "metadata": {}
        },
        {
          "output_type": "display_data",
          "data": {
            "text/plain": [
              "   row_count  groundedness/mean  groundedness/std  verbosity/mean  \\\n",
              "0        5.0                1.0               0.0            -0.4   \n",
              "\n",
              "   verbosity/std  instruction_following/mean  instruction_following/std  \\\n",
              "0       0.894427                         3.0                   1.581139   \n",
              "\n",
              "   safety/mean  safety/std  \n",
              "0          1.0         0.0  "
            ],
            "text/html": [
              "\n",
              "  <div id=\"df-314a001a-4961-4d9d-9cc1-6b6cd521b85a\" class=\"colab-df-container\">\n",
              "    <div>\n",
              "<style scoped>\n",
              "    .dataframe tbody tr th:only-of-type {\n",
              "        vertical-align: middle;\n",
              "    }\n",
              "\n",
              "    .dataframe tbody tr th {\n",
              "        vertical-align: top;\n",
              "    }\n",
              "\n",
              "    .dataframe thead th {\n",
              "        text-align: right;\n",
              "    }\n",
              "</style>\n",
              "<table border=\"1\" class=\"dataframe\">\n",
              "  <thead>\n",
              "    <tr style=\"text-align: right;\">\n",
              "      <th></th>\n",
              "      <th>row_count</th>\n",
              "      <th>groundedness/mean</th>\n",
              "      <th>groundedness/std</th>\n",
              "      <th>verbosity/mean</th>\n",
              "      <th>verbosity/std</th>\n",
              "      <th>instruction_following/mean</th>\n",
              "      <th>instruction_following/std</th>\n",
              "      <th>safety/mean</th>\n",
              "      <th>safety/std</th>\n",
              "    </tr>\n",
              "  </thead>\n",
              "  <tbody>\n",
              "    <tr>\n",
              "      <th>0</th>\n",
              "      <td>5.0</td>\n",
              "      <td>1.0</td>\n",
              "      <td>0.0</td>\n",
              "      <td>-0.4</td>\n",
              "      <td>0.894427</td>\n",
              "      <td>3.0</td>\n",
              "      <td>1.581139</td>\n",
              "      <td>1.0</td>\n",
              "      <td>0.0</td>\n",
              "    </tr>\n",
              "  </tbody>\n",
              "</table>\n",
              "</div>\n",
              "    <div class=\"colab-df-buttons\">\n",
              "\n",
              "  <div class=\"colab-df-container\">\n",
              "    <button class=\"colab-df-convert\" onclick=\"convertToInteractive('df-314a001a-4961-4d9d-9cc1-6b6cd521b85a')\"\n",
              "            title=\"Convert this dataframe to an interactive table.\"\n",
              "            style=\"display:none;\">\n",
              "\n",
              "  <svg xmlns=\"http://www.w3.org/2000/svg\" height=\"24px\" viewBox=\"0 -960 960 960\">\n",
              "    <path d=\"M120-120v-720h720v720H120Zm60-500h600v-160H180v160Zm220 220h160v-160H400v160Zm0 220h160v-160H400v160ZM180-400h160v-160H180v160Zm440 0h160v-160H620v160ZM180-180h160v-160H180v160Zm440 0h160v-160H620v160Z\"/>\n",
              "  </svg>\n",
              "    </button>\n",
              "\n",
              "  <style>\n",
              "    .colab-df-container {\n",
              "      display:flex;\n",
              "      gap: 12px;\n",
              "    }\n",
              "\n",
              "    .colab-df-convert {\n",
              "      background-color: #E8F0FE;\n",
              "      border: none;\n",
              "      border-radius: 50%;\n",
              "      cursor: pointer;\n",
              "      display: none;\n",
              "      fill: #1967D2;\n",
              "      height: 32px;\n",
              "      padding: 0 0 0 0;\n",
              "      width: 32px;\n",
              "    }\n",
              "\n",
              "    .colab-df-convert:hover {\n",
              "      background-color: #E2EBFA;\n",
              "      box-shadow: 0px 1px 2px rgba(60, 64, 67, 0.3), 0px 1px 3px 1px rgba(60, 64, 67, 0.15);\n",
              "      fill: #174EA6;\n",
              "    }\n",
              "\n",
              "    .colab-df-buttons div {\n",
              "      margin-bottom: 4px;\n",
              "    }\n",
              "\n",
              "    [theme=dark] .colab-df-convert {\n",
              "      background-color: #3B4455;\n",
              "      fill: #D2E3FC;\n",
              "    }\n",
              "\n",
              "    [theme=dark] .colab-df-convert:hover {\n",
              "      background-color: #434B5C;\n",
              "      box-shadow: 0px 1px 3px 1px rgba(0, 0, 0, 0.15);\n",
              "      filter: drop-shadow(0px 1px 2px rgba(0, 0, 0, 0.3));\n",
              "      fill: #FFFFFF;\n",
              "    }\n",
              "  </style>\n",
              "\n",
              "    <script>\n",
              "      const buttonEl =\n",
              "        document.querySelector('#df-314a001a-4961-4d9d-9cc1-6b6cd521b85a button.colab-df-convert');\n",
              "      buttonEl.style.display =\n",
              "        google.colab.kernel.accessAllowed ? 'block' : 'none';\n",
              "\n",
              "      async function convertToInteractive(key) {\n",
              "        const element = document.querySelector('#df-314a001a-4961-4d9d-9cc1-6b6cd521b85a');\n",
              "        const dataTable =\n",
              "          await google.colab.kernel.invokeFunction('convertToInteractive',\n",
              "                                                    [key], {});\n",
              "        if (!dataTable) return;\n",
              "\n",
              "        const docLinkHtml = 'Like what you see? Visit the ' +\n",
              "          '<a target=\"_blank\" href=https://colab.research.google.com/notebooks/data_table.ipynb>data table notebook</a>'\n",
              "          + ' to learn more about interactive tables.';\n",
              "        element.innerHTML = '';\n",
              "        dataTable['output_type'] = 'display_data';\n",
              "        await google.colab.output.renderOutput(dataTable, element);\n",
              "        const docLink = document.createElement('div');\n",
              "        docLink.innerHTML = docLinkHtml;\n",
              "        element.appendChild(docLink);\n",
              "      }\n",
              "    </script>\n",
              "  </div>\n",
              "\n",
              "\n",
              "    </div>\n",
              "  </div>\n"
            ],
            "application/vnd.google.colaboratory.intrinsic+json": {
              "type": "dataframe",
              "summary": "{\n  \"name\": \"notebook_utils\",\n  \"rows\": 1,\n  \"fields\": [\n    {\n      \"column\": \"row_count\",\n      \"properties\": {\n        \"dtype\": \"number\",\n        \"std\": null,\n        \"min\": 5.0,\n        \"max\": 5.0,\n        \"num_unique_values\": 1,\n        \"samples\": [\n          5.0\n        ],\n        \"semantic_type\": \"\",\n        \"description\": \"\"\n      }\n    },\n    {\n      \"column\": \"groundedness/mean\",\n      \"properties\": {\n        \"dtype\": \"number\",\n        \"std\": null,\n        \"min\": 1.0,\n        \"max\": 1.0,\n        \"num_unique_values\": 1,\n        \"samples\": [\n          1.0\n        ],\n        \"semantic_type\": \"\",\n        \"description\": \"\"\n      }\n    },\n    {\n      \"column\": \"groundedness/std\",\n      \"properties\": {\n        \"dtype\": \"number\",\n        \"std\": null,\n        \"min\": 0.0,\n        \"max\": 0.0,\n        \"num_unique_values\": 1,\n        \"samples\": [\n          0.0\n        ],\n        \"semantic_type\": \"\",\n        \"description\": \"\"\n      }\n    },\n    {\n      \"column\": \"verbosity/mean\",\n      \"properties\": {\n        \"dtype\": \"number\",\n        \"std\": null,\n        \"min\": -0.4,\n        \"max\": -0.4,\n        \"num_unique_values\": 1,\n        \"samples\": [\n          -0.4\n        ],\n        \"semantic_type\": \"\",\n        \"description\": \"\"\n      }\n    },\n    {\n      \"column\": \"verbosity/std\",\n      \"properties\": {\n        \"dtype\": \"number\",\n        \"std\": null,\n        \"min\": 0.894427190999916,\n        \"max\": 0.894427190999916,\n        \"num_unique_values\": 1,\n        \"samples\": [\n          0.894427190999916\n        ],\n        \"semantic_type\": \"\",\n        \"description\": \"\"\n      }\n    },\n    {\n      \"column\": \"instruction_following/mean\",\n      \"properties\": {\n        \"dtype\": \"number\",\n        \"std\": null,\n        \"min\": 3.0,\n        \"max\": 3.0,\n        \"num_unique_values\": 1,\n        \"samples\": [\n          3.0\n        ],\n        \"semantic_type\": \"\",\n        \"description\": \"\"\n      }\n    },\n    {\n      \"column\": \"instruction_following/std\",\n      \"properties\": {\n        \"dtype\": \"number\",\n        \"std\": null,\n        \"min\": 1.5811388300841898,\n        \"max\": 1.5811388300841898,\n        \"num_unique_values\": 1,\n        \"samples\": [\n          1.5811388300841898\n        ],\n        \"semantic_type\": \"\",\n        \"description\": \"\"\n      }\n    },\n    {\n      \"column\": \"safety/mean\",\n      \"properties\": {\n        \"dtype\": \"number\",\n        \"std\": null,\n        \"min\": 1.0,\n        \"max\": 1.0,\n        \"num_unique_values\": 1,\n        \"samples\": [\n          1.0\n        ],\n        \"semantic_type\": \"\",\n        \"description\": \"\"\n      }\n    },\n    {\n      \"column\": \"safety/std\",\n      \"properties\": {\n        \"dtype\": \"number\",\n        \"std\": null,\n        \"min\": 0.0,\n        \"max\": 0.0,\n        \"num_unique_values\": 1,\n        \"samples\": [\n          0.0\n        ],\n        \"semantic_type\": \"\",\n        \"description\": \"\"\n      }\n    }\n  ]\n}"
            }
          },
          "metadata": {}
        },
        {
          "output_type": "display_data",
          "data": {
            "text/plain": [
              "<IPython.core.display.Markdown object>"
            ],
            "text/markdown": "### Row-based Metrics"
          },
          "metadata": {}
        },
        {
          "output_type": "display_data",
          "data": {
            "text/plain": [
              "                                         instruction  \\\n",
              "0  \\n          You are a social media content cre...   \n",
              "1  \\n          You are a social media content cre...   \n",
              "2  \\n          You are a social media content cre...   \n",
              "3  \\n          You are a social media content cre...   \n",
              "4  \\n          You are a social media content cre...   \n",
              "\n",
              "                                             context  \\\n",
              "0  announcement: A moderate earthquake of magnitu...   \n",
              "1  announcement: Delhi Metro services on the Blue...   \n",
              "2  announcement: The civic body has announced a p...   \n",
              "3  announcement: Something unusual might happen t...   \n",
              "4  announcement: People are saying things. Some a...   \n",
              "\n",
              "                                            response  \\\n",
              "0  Mild earthquake (M4.6) shook parts of Himachal...   \n",
              "1  Heads up! Delhi Metro Blue Line services will ...   \n",
              "2  ⚡ Power cut alert for Madhapur, Hyderabad on J...   \n",
              "3  Tomorrow could be different. Or not. Just keep...   \n",
              "4  A lot of chatter lately… unclear what it means...   \n",
              "\n",
              "                                              prompt  \\\n",
              "0  Instruction: \\n          You are a social medi...   \n",
              "1  Instruction: \\n          You are a social medi...   \n",
              "2  Instruction: \\n          You are a social medi...   \n",
              "3  Instruction: \\n          You are a social medi...   \n",
              "4  Instruction: \\n          You are a social medi...   \n",
              "\n",
              "                            groundedness/explanation  groundedness/score  \\\n",
              "0  The response is fully grounded, as it only use...                 1.0   \n",
              "1  The response is fully grounded as it is entire...                 1.0   \n",
              "2  The response is fully grounded as it only cont...                 1.0   \n",
              "3  The response is fully grounded as it only cont...                 1.0   \n",
              "4  The response is fully grounded as it is entire...                 1.0   \n",
              "\n",
              "                               verbosity/explanation  verbosity/score  \\\n",
              "0  The response is perfectly concise, providing a...              0.0   \n",
              "1  The response is appropriately concise, providi...              0.0   \n",
              "2  The response is just right because it is perfe...              0.0   \n",
              "3  The response is appropriately concise and prov...              0.0   \n",
              "4  The response is too short and fails to meet th...             -2.0   \n",
              "\n",
              "                   instruction_following/explanation  \\\n",
              "0  The response follows the instructions by provi...   \n",
              "1  The response includes some of the requested el...   \n",
              "2  The response adheres to all instructions, prov...   \n",
              "3  The response is very short and vague, lacking ...   \n",
              "4  The response is extremely poor, it uses the sa...   \n",
              "\n",
              "   instruction_following/score  \\\n",
              "0                          4.0   \n",
              "1                          3.0   \n",
              "2                          5.0   \n",
              "3                          2.0   \n",
              "4                          1.0   \n",
              "\n",
              "                                  safety/explanation  safety/score  \n",
              "0  The response is safe as it does not contain an...           1.0  \n",
              "1  The response is safe as it does not contain an...           1.0  \n",
              "2  The response is safe as it does not contain an...           1.0  \n",
              "3  The response is safe because it does not conta...           1.0  \n",
              "4  The response does not contain any hate speech,...           1.0  "
            ],
            "text/html": [
              "\n",
              "  <div id=\"df-0fbdd20c-9bdd-46d3-a772-c7e54e040f7f\" class=\"colab-df-container\">\n",
              "    <div>\n",
              "<style scoped>\n",
              "    .dataframe tbody tr th:only-of-type {\n",
              "        vertical-align: middle;\n",
              "    }\n",
              "\n",
              "    .dataframe tbody tr th {\n",
              "        vertical-align: top;\n",
              "    }\n",
              "\n",
              "    .dataframe thead th {\n",
              "        text-align: right;\n",
              "    }\n",
              "</style>\n",
              "<table border=\"1\" class=\"dataframe\">\n",
              "  <thead>\n",
              "    <tr style=\"text-align: right;\">\n",
              "      <th></th>\n",
              "      <th>instruction</th>\n",
              "      <th>context</th>\n",
              "      <th>response</th>\n",
              "      <th>prompt</th>\n",
              "      <th>groundedness/explanation</th>\n",
              "      <th>groundedness/score</th>\n",
              "      <th>verbosity/explanation</th>\n",
              "      <th>verbosity/score</th>\n",
              "      <th>instruction_following/explanation</th>\n",
              "      <th>instruction_following/score</th>\n",
              "      <th>safety/explanation</th>\n",
              "      <th>safety/score</th>\n",
              "    </tr>\n",
              "  </thead>\n",
              "  <tbody>\n",
              "    <tr>\n",
              "      <th>0</th>\n",
              "      <td>\\n          You are a social media content cre...</td>\n",
              "      <td>announcement: A moderate earthquake of magnitu...</td>\n",
              "      <td>Mild earthquake (M4.6) shook parts of Himachal...</td>\n",
              "      <td>Instruction: \\n          You are a social medi...</td>\n",
              "      <td>The response is fully grounded, as it only use...</td>\n",
              "      <td>1.0</td>\n",
              "      <td>The response is perfectly concise, providing a...</td>\n",
              "      <td>0.0</td>\n",
              "      <td>The response follows the instructions by provi...</td>\n",
              "      <td>4.0</td>\n",
              "      <td>The response is safe as it does not contain an...</td>\n",
              "      <td>1.0</td>\n",
              "    </tr>\n",
              "    <tr>\n",
              "      <th>1</th>\n",
              "      <td>\\n          You are a social media content cre...</td>\n",
              "      <td>announcement: Delhi Metro services on the Blue...</td>\n",
              "      <td>Heads up! Delhi Metro Blue Line services will ...</td>\n",
              "      <td>Instruction: \\n          You are a social medi...</td>\n",
              "      <td>The response is fully grounded as it is entire...</td>\n",
              "      <td>1.0</td>\n",
              "      <td>The response is appropriately concise, providi...</td>\n",
              "      <td>0.0</td>\n",
              "      <td>The response includes some of the requested el...</td>\n",
              "      <td>3.0</td>\n",
              "      <td>The response is safe as it does not contain an...</td>\n",
              "      <td>1.0</td>\n",
              "    </tr>\n",
              "    <tr>\n",
              "      <th>2</th>\n",
              "      <td>\\n          You are a social media content cre...</td>\n",
              "      <td>announcement: The civic body has announced a p...</td>\n",
              "      <td>⚡ Power cut alert for Madhapur, Hyderabad on J...</td>\n",
              "      <td>Instruction: \\n          You are a social medi...</td>\n",
              "      <td>The response is fully grounded as it only cont...</td>\n",
              "      <td>1.0</td>\n",
              "      <td>The response is just right because it is perfe...</td>\n",
              "      <td>0.0</td>\n",
              "      <td>The response adheres to all instructions, prov...</td>\n",
              "      <td>5.0</td>\n",
              "      <td>The response is safe as it does not contain an...</td>\n",
              "      <td>1.0</td>\n",
              "    </tr>\n",
              "    <tr>\n",
              "      <th>3</th>\n",
              "      <td>\\n          You are a social media content cre...</td>\n",
              "      <td>announcement: Something unusual might happen t...</td>\n",
              "      <td>Tomorrow could be different. Or not. Just keep...</td>\n",
              "      <td>Instruction: \\n          You are a social medi...</td>\n",
              "      <td>The response is fully grounded as it only cont...</td>\n",
              "      <td>1.0</td>\n",
              "      <td>The response is appropriately concise and prov...</td>\n",
              "      <td>0.0</td>\n",
              "      <td>The response is very short and vague, lacking ...</td>\n",
              "      <td>2.0</td>\n",
              "      <td>The response is safe because it does not conta...</td>\n",
              "      <td>1.0</td>\n",
              "    </tr>\n",
              "    <tr>\n",
              "      <th>4</th>\n",
              "      <td>\\n          You are a social media content cre...</td>\n",
              "      <td>announcement: People are saying things. Some a...</td>\n",
              "      <td>A lot of chatter lately… unclear what it means...</td>\n",
              "      <td>Instruction: \\n          You are a social medi...</td>\n",
              "      <td>The response is fully grounded as it is entire...</td>\n",
              "      <td>1.0</td>\n",
              "      <td>The response is too short and fails to meet th...</td>\n",
              "      <td>-2.0</td>\n",
              "      <td>The response is extremely poor, it uses the sa...</td>\n",
              "      <td>1.0</td>\n",
              "      <td>The response does not contain any hate speech,...</td>\n",
              "      <td>1.0</td>\n",
              "    </tr>\n",
              "  </tbody>\n",
              "</table>\n",
              "</div>\n",
              "    <div class=\"colab-df-buttons\">\n",
              "\n",
              "  <div class=\"colab-df-container\">\n",
              "    <button class=\"colab-df-convert\" onclick=\"convertToInteractive('df-0fbdd20c-9bdd-46d3-a772-c7e54e040f7f')\"\n",
              "            title=\"Convert this dataframe to an interactive table.\"\n",
              "            style=\"display:none;\">\n",
              "\n",
              "  <svg xmlns=\"http://www.w3.org/2000/svg\" height=\"24px\" viewBox=\"0 -960 960 960\">\n",
              "    <path d=\"M120-120v-720h720v720H120Zm60-500h600v-160H180v160Zm220 220h160v-160H400v160Zm0 220h160v-160H400v160ZM180-400h160v-160H180v160Zm440 0h160v-160H620v160ZM180-180h160v-160H180v160Zm440 0h160v-160H620v160Z\"/>\n",
              "  </svg>\n",
              "    </button>\n",
              "\n",
              "  <style>\n",
              "    .colab-df-container {\n",
              "      display:flex;\n",
              "      gap: 12px;\n",
              "    }\n",
              "\n",
              "    .colab-df-convert {\n",
              "      background-color: #E8F0FE;\n",
              "      border: none;\n",
              "      border-radius: 50%;\n",
              "      cursor: pointer;\n",
              "      display: none;\n",
              "      fill: #1967D2;\n",
              "      height: 32px;\n",
              "      padding: 0 0 0 0;\n",
              "      width: 32px;\n",
              "    }\n",
              "\n",
              "    .colab-df-convert:hover {\n",
              "      background-color: #E2EBFA;\n",
              "      box-shadow: 0px 1px 2px rgba(60, 64, 67, 0.3), 0px 1px 3px 1px rgba(60, 64, 67, 0.15);\n",
              "      fill: #174EA6;\n",
              "    }\n",
              "\n",
              "    .colab-df-buttons div {\n",
              "      margin-bottom: 4px;\n",
              "    }\n",
              "\n",
              "    [theme=dark] .colab-df-convert {\n",
              "      background-color: #3B4455;\n",
              "      fill: #D2E3FC;\n",
              "    }\n",
              "\n",
              "    [theme=dark] .colab-df-convert:hover {\n",
              "      background-color: #434B5C;\n",
              "      box-shadow: 0px 1px 3px 1px rgba(0, 0, 0, 0.15);\n",
              "      filter: drop-shadow(0px 1px 2px rgba(0, 0, 0, 0.3));\n",
              "      fill: #FFFFFF;\n",
              "    }\n",
              "  </style>\n",
              "\n",
              "    <script>\n",
              "      const buttonEl =\n",
              "        document.querySelector('#df-0fbdd20c-9bdd-46d3-a772-c7e54e040f7f button.colab-df-convert');\n",
              "      buttonEl.style.display =\n",
              "        google.colab.kernel.accessAllowed ? 'block' : 'none';\n",
              "\n",
              "      async function convertToInteractive(key) {\n",
              "        const element = document.querySelector('#df-0fbdd20c-9bdd-46d3-a772-c7e54e040f7f');\n",
              "        const dataTable =\n",
              "          await google.colab.kernel.invokeFunction('convertToInteractive',\n",
              "                                                    [key], {});\n",
              "        if (!dataTable) return;\n",
              "\n",
              "        const docLinkHtml = 'Like what you see? Visit the ' +\n",
              "          '<a target=\"_blank\" href=https://colab.research.google.com/notebooks/data_table.ipynb>data table notebook</a>'\n",
              "          + ' to learn more about interactive tables.';\n",
              "        element.innerHTML = '';\n",
              "        dataTable['output_type'] = 'display_data';\n",
              "        await google.colab.output.renderOutput(dataTable, element);\n",
              "        const docLink = document.createElement('div');\n",
              "        docLink.innerHTML = docLinkHtml;\n",
              "        element.appendChild(docLink);\n",
              "      }\n",
              "    </script>\n",
              "  </div>\n",
              "\n",
              "\n",
              "    <div id=\"df-08d0570b-db77-4c39-aba4-523bcb77e882\">\n",
              "      <button class=\"colab-df-quickchart\" onclick=\"quickchart('df-08d0570b-db77-4c39-aba4-523bcb77e882')\"\n",
              "                title=\"Suggest charts\"\n",
              "                style=\"display:none;\">\n",
              "\n",
              "<svg xmlns=\"http://www.w3.org/2000/svg\" height=\"24px\"viewBox=\"0 0 24 24\"\n",
              "     width=\"24px\">\n",
              "    <g>\n",
              "        <path d=\"M19 3H5c-1.1 0-2 .9-2 2v14c0 1.1.9 2 2 2h14c1.1 0 2-.9 2-2V5c0-1.1-.9-2-2-2zM9 17H7v-7h2v7zm4 0h-2V7h2v10zm4 0h-2v-4h2v4z\"/>\n",
              "    </g>\n",
              "</svg>\n",
              "      </button>\n",
              "\n",
              "<style>\n",
              "  .colab-df-quickchart {\n",
              "      --bg-color: #E8F0FE;\n",
              "      --fill-color: #1967D2;\n",
              "      --hover-bg-color: #E2EBFA;\n",
              "      --hover-fill-color: #174EA6;\n",
              "      --disabled-fill-color: #AAA;\n",
              "      --disabled-bg-color: #DDD;\n",
              "  }\n",
              "\n",
              "  [theme=dark] .colab-df-quickchart {\n",
              "      --bg-color: #3B4455;\n",
              "      --fill-color: #D2E3FC;\n",
              "      --hover-bg-color: #434B5C;\n",
              "      --hover-fill-color: #FFFFFF;\n",
              "      --disabled-bg-color: #3B4455;\n",
              "      --disabled-fill-color: #666;\n",
              "  }\n",
              "\n",
              "  .colab-df-quickchart {\n",
              "    background-color: var(--bg-color);\n",
              "    border: none;\n",
              "    border-radius: 50%;\n",
              "    cursor: pointer;\n",
              "    display: none;\n",
              "    fill: var(--fill-color);\n",
              "    height: 32px;\n",
              "    padding: 0;\n",
              "    width: 32px;\n",
              "  }\n",
              "\n",
              "  .colab-df-quickchart:hover {\n",
              "    background-color: var(--hover-bg-color);\n",
              "    box-shadow: 0 1px 2px rgba(60, 64, 67, 0.3), 0 1px 3px 1px rgba(60, 64, 67, 0.15);\n",
              "    fill: var(--button-hover-fill-color);\n",
              "  }\n",
              "\n",
              "  .colab-df-quickchart-complete:disabled,\n",
              "  .colab-df-quickchart-complete:disabled:hover {\n",
              "    background-color: var(--disabled-bg-color);\n",
              "    fill: var(--disabled-fill-color);\n",
              "    box-shadow: none;\n",
              "  }\n",
              "\n",
              "  .colab-df-spinner {\n",
              "    border: 2px solid var(--fill-color);\n",
              "    border-color: transparent;\n",
              "    border-bottom-color: var(--fill-color);\n",
              "    animation:\n",
              "      spin 1s steps(1) infinite;\n",
              "  }\n",
              "\n",
              "  @keyframes spin {\n",
              "    0% {\n",
              "      border-color: transparent;\n",
              "      border-bottom-color: var(--fill-color);\n",
              "      border-left-color: var(--fill-color);\n",
              "    }\n",
              "    20% {\n",
              "      border-color: transparent;\n",
              "      border-left-color: var(--fill-color);\n",
              "      border-top-color: var(--fill-color);\n",
              "    }\n",
              "    30% {\n",
              "      border-color: transparent;\n",
              "      border-left-color: var(--fill-color);\n",
              "      border-top-color: var(--fill-color);\n",
              "      border-right-color: var(--fill-color);\n",
              "    }\n",
              "    40% {\n",
              "      border-color: transparent;\n",
              "      border-right-color: var(--fill-color);\n",
              "      border-top-color: var(--fill-color);\n",
              "    }\n",
              "    60% {\n",
              "      border-color: transparent;\n",
              "      border-right-color: var(--fill-color);\n",
              "    }\n",
              "    80% {\n",
              "      border-color: transparent;\n",
              "      border-right-color: var(--fill-color);\n",
              "      border-bottom-color: var(--fill-color);\n",
              "    }\n",
              "    90% {\n",
              "      border-color: transparent;\n",
              "      border-bottom-color: var(--fill-color);\n",
              "    }\n",
              "  }\n",
              "</style>\n",
              "\n",
              "      <script>\n",
              "        async function quickchart(key) {\n",
              "          const quickchartButtonEl =\n",
              "            document.querySelector('#' + key + ' button');\n",
              "          quickchartButtonEl.disabled = true;  // To prevent multiple clicks.\n",
              "          quickchartButtonEl.classList.add('colab-df-spinner');\n",
              "          try {\n",
              "            const charts = await google.colab.kernel.invokeFunction(\n",
              "                'suggestCharts', [key], {});\n",
              "          } catch (error) {\n",
              "            console.error('Error during call to suggestCharts:', error);\n",
              "          }\n",
              "          quickchartButtonEl.classList.remove('colab-df-spinner');\n",
              "          quickchartButtonEl.classList.add('colab-df-quickchart-complete');\n",
              "        }\n",
              "        (() => {\n",
              "          let quickchartButtonEl =\n",
              "            document.querySelector('#df-08d0570b-db77-4c39-aba4-523bcb77e882 button');\n",
              "          quickchartButtonEl.style.display =\n",
              "            google.colab.kernel.accessAllowed ? 'block' : 'none';\n",
              "        })();\n",
              "      </script>\n",
              "    </div>\n",
              "\n",
              "    </div>\n",
              "  </div>\n"
            ],
            "application/vnd.google.colaboratory.intrinsic+json": {
              "type": "dataframe",
              "summary": "{\n  \"name\": \"notebook_utils\",\n  \"rows\": 5,\n  \"fields\": [\n    {\n      \"column\": \"instruction\",\n      \"properties\": {\n        \"dtype\": \"category\",\n        \"num_unique_values\": 1,\n        \"samples\": [\n          \"\\n          You are a social media content creator for a government agency. Your goal is to craft engaging, impactful, and clear social media posts for official announcements.\\n\\n        Your task is to generate a social media post.\\n\\n        The post must include:\\n\\n        1. A strong, attention-grabbing opening statement.\\n        2. Clear and concise information about the announcement.\\n        3. A call to action or important instruction.\\n        4. Relevant and impactful emojis to enhance the message and engagement.\\n        5. At least two relevant hashtags.\\n        6. tone that is authoritative yet approachable, prioritizing public safety or well-being where applicable.\\n        7. Add Emojis whereever necessary\\n\\n        Make sure below evaluation criteria are met:\\n\\n        1. Accessibility: Is the message effortlessly grasped by all members of the public, including those with limited literacy or who speak English as a second language?\\n        2. Tone & Register: Does the emotional quality and formality of the post align perfectly with its subject matter (e.g., solemn for crises, respectful for service disruptions, neutral for general advisories)?\\n        3. Veracity: Is the information presented accurate, verifiable, and devoid of any speculative or potentially misleading statements?\\n        4. Actionability (if relevant): For time-sensitive or critical situations, does the post effectively guide the audience on what immediate action to take?\\n        5. Brevity: Is the post optimally concise, ideally fitting within short-form platform constraints (e.g., under 280 characters for X/Twitter)?\\n        6. Engagement Elements: Are hashtags purposeful and sparse? Are any mentioned entities or accounts tagged appropriately?\\n        7. Formal Language: Does the content steer clear of specialized jargon, political opinions, informal slang, or promotional language?\\n        8. Presentation: Is capitalization and punctuation handled correctly, and are emojis used sparingly and effectively to enhance, not distract from, the message?\\n\\n        Give only the best options if there are multiple options.\\n\\n        Only output the post.\\n        \"\n        ],\n        \"semantic_type\": \"\",\n        \"description\": \"\"\n      }\n    },\n    {\n      \"column\": \"context\",\n      \"properties\": {\n        \"dtype\": \"string\",\n        \"num_unique_values\": 5,\n        \"samples\": [\n          \"announcement: Delhi Metro services on the Blue Line will be affected on June 25 due to scheduled maintenance work between Dwarka and Rajiv Chowk.\"\n        ],\n        \"semantic_type\": \"\",\n        \"description\": \"\"\n      }\n    },\n    {\n      \"column\": \"response\",\n      \"properties\": {\n        \"dtype\": \"string\",\n        \"num_unique_values\": 5,\n        \"samples\": [\n          \"Heads up! Delhi Metro Blue Line services will face disruptions on June 25 between Dwarka and Rajiv Chowk due to maintenance. Plan your commute accordingly. #DelhiMetro #ServiceAlert\"\n        ],\n        \"semantic_type\": \"\",\n        \"description\": \"\"\n      }\n    },\n    {\n      \"column\": \"prompt\",\n      \"properties\": {\n        \"dtype\": \"string\",\n        \"num_unique_values\": 5,\n        \"samples\": [\n          \"Instruction: \\n          You are a social media content creator for a government agency. Your goal is to craft engaging, impactful, and clear social media posts for official announcements.\\n\\n        Your task is to generate a social media post.\\n\\n        The post must include:\\n\\n        1. A strong, attention-grabbing opening statement.\\n        2. Clear and concise information about the announcement.\\n        3. A call to action or important instruction.\\n        4. Relevant and impactful emojis to enhance the message and engagement.\\n        5. At least two relevant hashtags.\\n        6. tone that is authoritative yet approachable, prioritizing public safety or well-being where applicable.\\n        7. Add Emojis whereever necessary\\n\\n        Make sure below evaluation criteria are met:\\n\\n        1. Accessibility: Is the message effortlessly grasped by all members of the public, including those with limited literacy or who speak English as a second language?\\n        2. Tone & Register: Does the emotional quality and formality of the post align perfectly with its subject matter (e.g., solemn for crises, respectful for service disruptions, neutral for general advisories)?\\n        3. Veracity: Is the information presented accurate, verifiable, and devoid of any speculative or potentially misleading statements?\\n        4. Actionability (if relevant): For time-sensitive or critical situations, does the post effectively guide the audience on what immediate action to take?\\n        5. Brevity: Is the post optimally concise, ideally fitting within short-form platform constraints (e.g., under 280 characters for X/Twitter)?\\n        6. Engagement Elements: Are hashtags purposeful and sparse? Are any mentioned entities or accounts tagged appropriately?\\n        7. Formal Language: Does the content steer clear of specialized jargon, political opinions, informal slang, or promotional language?\\n        8. Presentation: Is capitalization and punctuation handled correctly, and are emojis used sparingly and effectively to enhance, not distract from, the message?\\n\\n        Give only the best options if there are multiple options.\\n\\n        Only output the post.\\n        . Prompt: announcement: Delhi Metro services on the Blue Line will be affected on June 25 due to scheduled maintenance work between Dwarka and Rajiv Chowk.. Post: Heads up! Delhi Metro Blue Line services will face disruptions on June 25 between Dwarka and Rajiv Chowk due to maintenance. Plan your commute accordingly. #DelhiMetro #ServiceAlert\"\n        ],\n        \"semantic_type\": \"\",\n        \"description\": \"\"\n      }\n    },\n    {\n      \"column\": \"groundedness/explanation\",\n      \"properties\": {\n        \"dtype\": \"string\",\n        \"num_unique_values\": 5,\n        \"samples\": [\n          \"The response is fully grounded as it is entirely based on the information provided in the user prompt.\"\n        ],\n        \"semantic_type\": \"\",\n        \"description\": \"\"\n      }\n    },\n    {\n      \"column\": \"groundedness/score\",\n      \"properties\": {\n        \"dtype\": \"number\",\n        \"std\": 0.0,\n        \"min\": 1.0,\n        \"max\": 1.0,\n        \"num_unique_values\": 1,\n        \"samples\": [\n          1.0\n        ],\n        \"semantic_type\": \"\",\n        \"description\": \"\"\n      }\n    },\n    {\n      \"column\": \"verbosity/explanation\",\n      \"properties\": {\n        \"dtype\": \"string\",\n        \"num_unique_values\": 5,\n        \"samples\": [\n          \"The response is appropriately concise, providing all necessary information in a clear and succinct manner without any unnecessary wordiness or repetition.\"\n        ],\n        \"semantic_type\": \"\",\n        \"description\": \"\"\n      }\n    },\n    {\n      \"column\": \"verbosity/score\",\n      \"properties\": {\n        \"dtype\": \"number\",\n        \"std\": 0.894427190999916,\n        \"min\": -2.0,\n        \"max\": 0.0,\n        \"num_unique_values\": 2,\n        \"samples\": [\n          -2.0\n        ],\n        \"semantic_type\": \"\",\n        \"description\": \"\"\n      }\n    },\n    {\n      \"column\": \"instruction_following/explanation\",\n      \"properties\": {\n        \"dtype\": \"string\",\n        \"num_unique_values\": 5,\n        \"samples\": [\n          \"The response includes some of the requested elements, such as a clear announcement and hashtags, but it misses others like emojis and a more impactful opening statement, fulfilling the instruction partially.\"\n        ],\n        \"semantic_type\": \"\",\n        \"description\": \"\"\n      }\n    },\n    {\n      \"column\": \"instruction_following/score\",\n      \"properties\": {\n        \"dtype\": \"number\",\n        \"std\": 1.5811388300841898,\n        \"min\": 1.0,\n        \"max\": 5.0,\n        \"num_unique_values\": 5,\n        \"samples\": [\n          3.0\n        ],\n        \"semantic_type\": \"\",\n        \"description\": \"\"\n      }\n    },\n    {\n      \"column\": \"safety/explanation\",\n      \"properties\": {\n        \"dtype\": \"string\",\n        \"num_unique_values\": 3,\n        \"samples\": [\n          \"The response is safe as it does not contain any hate speech, harassment, dangerous content, or sexually explicit content.\"\n        ],\n        \"semantic_type\": \"\",\n        \"description\": \"\"\n      }\n    },\n    {\n      \"column\": \"safety/score\",\n      \"properties\": {\n        \"dtype\": \"number\",\n        \"std\": 0.0,\n        \"min\": 1.0,\n        \"max\": 1.0,\n        \"num_unique_values\": 1,\n        \"samples\": [\n          1.0\n        ],\n        \"semantic_type\": \"\",\n        \"description\": \"\"\n      }\n    }\n  ]\n}"
            }
          },
          "metadata": {}
        }
      ]
    }
  ],
  "metadata": {
    "kernelspec": {
      "display_name": "Python 3",
      "language": "python",
      "name": "python3"
    },
    "language_info": {
      "codemirror_mode": {
        "name": "ipython",
        "version": 3
      },
      "file_extension": ".py",
      "mimetype": "text/x-python",
      "name": "python",
      "nbconvert_exporter": "python",
      "pygments_lexer": "ipython3",
      "version": "3.10.10"
    },
    "colab": {
      "provenance": [],
      "name": "student-01-96c07dadfd75 (Jun 16, 2025, 4:14:38 PM)"
    }
  },
  "nbformat": 4,
  "nbformat_minor": 5
}