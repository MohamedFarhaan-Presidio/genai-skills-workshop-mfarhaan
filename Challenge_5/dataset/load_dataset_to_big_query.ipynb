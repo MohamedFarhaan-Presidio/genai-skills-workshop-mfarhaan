{
  "cells": [
    {
      "cell_type": "markdown",
      "source": [
        "Install necessary dependecies"
      ],
      "metadata": {
        "id": "h0aHawPNVnlK"
      },
      "id": "h0aHawPNVnlK"
    },
    {
      "cell_type": "code",
      "id": "23DoEYL4Bo9AbXzVlR1MDRZD",
      "metadata": {
        "tags": [],
        "id": "23DoEYL4Bo9AbXzVlR1MDRZD"
      },
      "source": [
        "!pip install google-cloud-bigquery google-cloud-aiplatform pandas --quiet"
      ],
      "execution_count": 1,
      "outputs": []
    },
    {
      "cell_type": "markdown",
      "source": [
        "Authenticate GCloud SDK"
      ],
      "metadata": {
        "id": "8pyIFt3WVsSV"
      },
      "id": "8pyIFt3WVsSV"
    },
    {
      "cell_type": "code",
      "source": [
        "!gcloud auth application-default login"
      ],
      "metadata": {
        "colab": {
          "base_uri": "https://localhost:8080/"
        },
        "id": "jCWja2_iVuIG",
        "outputId": "2e87aff4-3ff6-42a4-9dc1-df5c77c5bc37"
      },
      "id": "jCWja2_iVuIG",
      "execution_count": 2,
      "outputs": [
        {
          "output_type": "stream",
          "name": "stdout",
          "text": [
            "\n",
            "You are running on a Google Compute Engine virtual machine.\n",
            "The service credentials associated with this virtual machine\n",
            "will automatically be used by Application Default\n",
            "Credentials, so it is not necessary to use this command.\n",
            "\n",
            "If you decide to proceed anyway, your user credentials may be visible\n",
            "to others with access to this virtual machine. Are you sure you want\n",
            "to authenticate with your personal account?\n",
            "\n",
            "Do you want to continue (Y/n)?  Y\n",
            "\n",
            "Go to the following link in your browser, and complete the sign-in prompts:\n",
            "\n",
            "    https://accounts.google.com/o/oauth2/auth?response_type=code&client_id=764086051850-6qr4p6gpi6hn506pt8ejuq83di341hur.apps.googleusercontent.com&redirect_uri=https%3A%2F%2Fsdk.cloud.google.com%2Fapplicationdefaultauthcode.html&scope=openid+https%3A%2F%2Fwww.googleapis.com%2Fauth%2Fuserinfo.email+https%3A%2F%2Fwww.googleapis.com%2Fauth%2Fcloud-platform+https%3A%2F%2Fwww.googleapis.com%2Fauth%2Fsqlservice.login&state=pghaePWtVWpciBWlwipoflKV4WCvmE&prompt=consent&token_usage=remote&access_type=offline&code_challenge=H9pYywgHs5h6j32or44BJc67iEQfiYf0REGbOJ9rMpM&code_challenge_method=S256\n",
            "\n",
            "Once finished, enter the verification code provided in your browser: 4/0AUJR-x6SDoGzhAVyOl689uOdYGju49CxOuTV030B6dpSHPe80iHQV_a4RMFEtIb7lFIk6A\n",
            "\n",
            "Credentials saved to file: [/content/.config/application_default_credentials.json]\n",
            "\n",
            "These credentials will be used by any library that requests Application Default Credentials (ADC).\n",
            "\n",
            "Quota project \"qwiklabs-gcp-03-f951e059a60d\" was added to ADC which can be used by Google client libraries for billing and quota. Note that some services may still bill the project owning the resource.\n"
          ]
        }
      ]
    },
    {
      "cell_type": "markdown",
      "source": [
        "Import necessary packages"
      ],
      "metadata": {
        "id": "_XsUgcCoVwyq"
      },
      "id": "_XsUgcCoVwyq"
    },
    {
      "cell_type": "code",
      "source": [
        "from google.cloud import bigquery\n",
        "from vertexai.preview.language_models import ChatModel\n",
        "from vertexai.preview.generative_models import GenerativeModel\n",
        "import vertexai\n",
        "import pandas as pd"
      ],
      "metadata": {
        "id": "B2lNgHHnVzGo"
      },
      "id": "B2lNgHHnVzGo",
      "execution_count": 3,
      "outputs": []
    },
    {
      "cell_type": "markdown",
      "source": [
        "Initialize constants"
      ],
      "metadata": {
        "id": "cgiKDOj3V1pp"
      },
      "id": "cgiKDOj3V1pp"
    },
    {
      "cell_type": "code",
      "source": [
        "project_id=\"qwiklabs-gcp-03-f951e059a60d\"\n",
        "dataset_id=\"ads_dataset\"\n",
        "embedding_conn_name=\"embedding_conn\"\n",
        "embedding_model_name=\"ads_embedding_model\"\n",
        "dataset_table_name=\"ads_raw_dataset\"\n",
        "embedded_dataset_table_name=\"ads_vector_dataset\"\n",
        "bigquery_location=\"us\"\n",
        "vertexai_location=\"us-central1\"\n",
        "dataset_src=\"gs://labs.roitraining.com/alaska-dept-of-snow/alaska-dept-of-snow-faqs.csv\""
      ],
      "metadata": {
        "id": "QS9yeitqV3cN"
      },
      "id": "QS9yeitqV3cN",
      "execution_count": 4,
      "outputs": []
    },
    {
      "cell_type": "markdown",
      "source": [
        "Create big query client and loads CSV dataset into bigquery table"
      ],
      "metadata": {
        "id": "lnGO9VtuW_ft"
      },
      "id": "lnGO9VtuW_ft"
    },
    {
      "cell_type": "code",
      "source": [
        "# Big query Load CSV data job configuration\n",
        "job_config = bigquery.LoadJobConfig(\n",
        "    source_format=bigquery.SourceFormat.CSV,\n",
        "    skip_leading_rows=1,\n",
        "    autodetect=True,\n",
        "    write_disposition=\"WRITE_TRUNCATE\"\n",
        ")\n",
        "\n",
        "# Initializing Big Query client\n",
        "bq = bigquery.Client(project=project_id, location=bigquery_location)\n",
        "\n",
        "#Load CSV data to big query table\n",
        "load_job = bq.load_table_from_uri(dataset_src, f\"{project_id}.{dataset_id}.{dataset_table_name}\", job_config=job_config)\n",
        "load_job.result()\n",
        "print(\"CSV Data loaded to Big Query table\")"
      ],
      "metadata": {
        "colab": {
          "base_uri": "https://localhost:8080/"
        },
        "id": "5cHB8rtKXDJm",
        "outputId": "785824c6-ee11-4237-f919-08992c623d32"
      },
      "id": "5cHB8rtKXDJm",
      "execution_count": 9,
      "outputs": [
        {
          "output_type": "stream",
          "name": "stdout",
          "text": [
            "CSV Data loaded to Big Query table\n"
          ]
        }
      ]
    },
    {
      "cell_type": "markdown",
      "source": [
        "Create an remote embedding model that can be used in future sql queries to vector search the data"
      ],
      "metadata": {
        "id": "ufBQ7eGDXJj4"
      },
      "id": "ufBQ7eGDXJj4"
    },
    {
      "cell_type": "code",
      "source": [
        "#Create an embedding model\n",
        "embed_model = f\"\"\"\n",
        "  CREATE OR REPLACE MODEL `{dataset_id}.{embedding_model_name}`\n",
        "  REMOTE WITH CONNECTION `{bigquery_location}.{embedding_conn_name}`\n",
        "  OPTIONS (ENDPOINT = 'text-embedding-005')\n",
        "\"\"\"\n",
        "bq.query(embed_model).result()\n",
        "print(\"Embedding model created\")"
      ],
      "metadata": {
        "colab": {
          "base_uri": "https://localhost:8080/"
        },
        "id": "Lsfw03iDXKS6",
        "outputId": "2f266f04-43eb-4ec8-8993-809bf92cede7"
      },
      "id": "Lsfw03iDXKS6",
      "execution_count": 10,
      "outputs": [
        {
          "output_type": "stream",
          "name": "stdout",
          "text": [
            "Embedding model created\n"
          ]
        }
      ]
    },
    {
      "cell_type": "markdown",
      "source": [
        "Create a new embedded data table in big query with source table as the csv loaded table. Use remote embedding connection to embed the data"
      ],
      "metadata": {
        "id": "8BFVHIbNXMdk"
      },
      "id": "8BFVHIbNXMdk"
    },
    {
      "cell_type": "code",
      "source": [
        "#Create an embedded table with embedded data\n",
        "embed_table_query = f\"\"\"\n",
        "  CREATE OR REPLACE TABLE `{dataset_id}.{embedded_dataset_table_name}` AS\n",
        "  SELECT *, ml_generate_embedding_result AS vector_embedding\n",
        "  FROM ML.GENERATE_EMBEDDING(\n",
        "    MODEL `{dataset_id}.{embedding_model_name}`,\n",
        "    (\n",
        "      SELECT CONCAT(string_field_0, ' ', string_field_1) AS content,\n",
        "            string_field_0 AS question,\n",
        "            string_field_1 AS answer\n",
        "      FROM `{dataset_id}.{dataset_table_name}`\n",
        "    )\n",
        "  )\n",
        "\"\"\"\n",
        "bq.query(embed_table_query).result()\n",
        "print(f\"Embedded table populated: {dataset_id}.{embedded_dataset_table_name}\")"
      ],
      "metadata": {
        "colab": {
          "base_uri": "https://localhost:8080/"
        },
        "id": "g8BDaPtuXWwQ",
        "outputId": "b0b5ffb0-bd5a-436c-83f6-80dc75054203"
      },
      "id": "g8BDaPtuXWwQ",
      "execution_count": 11,
      "outputs": [
        {
          "output_type": "stream",
          "name": "stdout",
          "text": [
            "Embedded table populated: ads_dataset.ads_vector_dataset\n"
          ]
        }
      ]
    }
  ],
  "metadata": {
    "kernelspec": {
      "display_name": "Python 3",
      "language": "python",
      "name": "python3"
    },
    "language_info": {
      "codemirror_mode": {
        "name": "ipython",
        "version": 3
      },
      "file_extension": ".py",
      "mimetype": "text/x-python",
      "name": "python",
      "nbconvert_exporter": "python",
      "pygments_lexer": "ipython3",
      "version": "3.10.10"
    },
    "colab": {
      "provenance": [],
      "name": "student-01-96c07dadfd75 (Jun 17, 2025, 10:51:57 AM)"
    }
  },
  "nbformat": 4,
  "nbformat_minor": 5
}